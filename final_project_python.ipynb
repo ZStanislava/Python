{
 "cells": [
  {
   "cell_type": "markdown",
   "metadata": {},
   "source": [
    "# Финальный проект модуля Python\n",
    "#  «Анализ данных об оптовых продажах аудиотехники»"
   ]
  },
  {
   "cell_type": "markdown",
   "metadata": {},
   "source": [
    "**В финальном проекте модуля Python вам предстоит поработать аналитиком данных в компании «Карпов Саунд», которая занимается оптовой продажей аудиотехники и предлагает широкий ассортимент товаров от ведущих мировых брендов, включающий профессиональные аудиосистемы, домашние кинотеатры, портативные аудиоустройства и прочие аксессуары.** \n",
    "\n",
    "«Карпов Саунд» сотрудничает с крупными розничными сетями и специализированными магазинами аудиотехники в России. Клиенты компании регулярно оставляют заявки на закупку товаров в CRM системе, менеджеры связываются с клиентами, обсуждают детали, после чего заказы либо подтверждаются менеджерами, либо по разным причинам отменяются. \n",
    "\n",
    "В «Карпов Саунд» трепетно относятся к хранению информации о своих товарах, клиентах и заказах, однако в самый неподходящий момент хранилище данных компании оказалось временно недоступно из-за плановых работ по его оптимизации. Поэтому в рамках этого проекта все данные будут представлены не в самом удобном для анализа виде — в формате резервной выгрузки, разложенной по разным папкам на сервере компании.\n",
    "\n",
    "Вам необходимо собрать данные из разрозненных источников, проанализировать их и сделать выводы, которые помогут руководству компании принять верные тактические решения."
   ]
  },
  {
   "cell_type": "markdown",
   "metadata": {},
   "source": [
    "**В ходе работы над проектом вам встретятся следующие таблицы:**  \n",
    "\n",
    "1) orders (данные о заказах):  \n",
    "- order_id — номер заказа  \n",
    "- product_id — идентификатор товара  \n",
    "- quantity — количество этого товара в заказе\n",
    "\n",
    "2) order_status (данные о статусах заказов и клиентах):\n",
    "- order_id — номер заказа  \n",
    "- client_id — идентификатор клиента  \n",
    "- status — статус заказа\n",
    "\n",
    "3) products (данные о товарах):\n",
    "- id — идентификатор товара  \n",
    "- name — имя товара (сначала указан бренд, через запятую модель товара)  \n",
    "- price — цена единицы товара, в долларах"
   ]
  },
  {
   "cell_type": "markdown",
   "metadata": {},
   "source": [
    "Каждый заказ имеет статус или подтвержденного (`confirmed`), или отмененного (`canceled`). В одном заказе может быть несколько разных товаров. Если заказ был отменен, а потом создан такой же (тем же клиентом, с теми же товарами, у того же менеджера), в базе останется запись о двух заказах с разными номерами и статусами, поскольку система не позволяет создать заказ с тем же номером.\n",
    "\n",
    "Сначала вам нужно собрать и предобработать три типа датасетов: `orders.csv`, `order_status.csv`, `products.csv`."
   ]
  },
  {
   "cell_type": "markdown",
   "metadata": {},
   "source": [
    "На схеме показано, как связаны таблицы между собой:"
   ]
  },
  {
   "cell_type": "markdown",
   "metadata": {},
   "source": [
    "![](https://storage.yandexcloud.net/klms-public/production/learning-content/457/4167/37264/104636/497986/er_white.png)"
   ]
  },
  {
   "cell_type": "markdown",
   "metadata": {},
   "source": [
    "Данные находятся в папке `data` из директории `shared` (`shared` -> `homeworks` -> `python_ds_miniprojects` -> `final_project`). Внутри папки `data` находятся 2 другие папки: `orders` и `products`.\n",
    "\n",
    "В папке `orders` папки с датами, в которые сделаны записи. В этих папках — папки с именами менеджеров по продажам. Эти папки содержат файлы `orders.csv` и `order_status.csv` (в каждой папке по одной паре файлов). Пример структуры: `data` -> `orders` -> `2024-03-01` -> `Алексей Саксофонов` -> `orders.csv` и `order_status.csv`.\n",
    "\n",
    "В папке `products` папки с категориями товаров. В этих папках файлы `products.csv` (в каждой папке по одному файлу). Пример структуры: `data` -> `products` -> `AV-процессор` -> `products.csv`."
   ]
  },
  {
   "cell_type": "markdown",
   "metadata": {},
   "source": [
    "Кроме того у вас есть файл `usd_rate.txt` с курсом доллара США на каждый день анализируемого периода (данные в формате `дата,курс,валюта`). Он потребуется в середине проекта."
   ]
  },
  {
   "cell_type": "markdown",
   "metadata": {},
   "source": [
    "В финальном проекте модуля вы можете пользоваться подсказками в ноутбуке (они менее подробные, чем были в предыдущих уроках), обращаться за помощью к экспертам в Discord и смотреть разборы в LMS (за просмотр разбора снимается половина баллов за задание)."
   ]
  },
  {
   "cell_type": "markdown",
   "metadata": {},
   "source": [
    "### Соберем датасет с заказами по папкам"
   ]
  },
  {
   "cell_type": "markdown",
   "metadata": {},
   "source": [
    "## Шаг 2"
   ]
  },
  {
   "cell_type": "markdown",
   "metadata": {},
   "source": [
    "**Ваша первая задача — собрать данные со всех папок в три датафрейма:**  \n",
    "1. `df_orders` — на основе датасетов `orders.csv` + добавьте колонку `manager` с именами менеджеров и колонку `date` с датами. \n",
    "2. `df_order_status` — на основе датасетов `order_status.csv`.  \n",
    "3. `df_products` — на основе датасетов `products.csv` + добавьте колонку `category` с категориями товаров.  \n",
    "\n",
    "**Соберите датафреймы и сохраните их в соответствующие csv файлы: `df_orders.csv`, `df_order_status.csv` и `df_products.csv`. Отправьте файлы на проверку в LMS.**"
   ]
  },
  {
   "cell_type": "markdown",
   "metadata": {},
   "source": [
    "<details>\n",
    "<summary>&#9658; Нажмите сюда, чтобы увидеть подсказку</summary>\n",
    "  <p>\n",
    "      \n",
    "1) Импортируйте библиотеки `pandas` и `os`.  \n",
    "      \n",
    "2) По аналогии с кодом, который вы использовали для сбора данных в 7-м уроке про грязные данные, сделайте следующее:  \n",
    "a. создайте путь к папке `data`, используя ваш логин;  \n",
    "b. соберите названия нужных вам файлов (`orders.csv`, `order_status.csv`, `products.csv`) в список `target_files`;  \n",
    "c. создайте пустой список `data_files`, куда будете сохранять пути к файлам;  \n",
    "d. с помощью функции `os.walk()` создайте генератор;  \n",
    "e. с помощью цикла пройдитесь по генератору и, если название файла совпадает с нужным вам из списка `target_files`, путь к этому файлу добавьте в список `data_files`.\n",
    "      \n",
    "3) Используя пути к файлам из списка `data_files`, соберите полные датафреймы `df_orders`, `df_order_status` и `df_products`:  \n",
    "a. создайте пустые списки `orders_df_list`, `order_status_df_list` и `products_df_list`, чтобы в них сложить данные для соответствующих датафреймов;  \n",
    "b. с помощью цикла пройдитесь по путям в списке `data_files` и прочитайте датафрейм по этому пути. Добавьте датафрейм в тот или иной список в зависимости от того, название какого датасета содержит путь. Если в названии пути есть `orders.csv`, перед добавлением в список создайте колонки `manager` с именами менеджеров и `date` с датами. А если в названии пути есть `products.csv`, перед добавлением в список создайте колонку `category` с категориями товаров. Для создания колонок используйте подстроки из строки с путем.  \n",
    "      \n",
    "4) Каждый раз используя функцию `pd.concat` с параметром `ignore_index=True`, соберите данные в датафреймы: из списка `orders_df_list` в датафрейм `df_orders`, из списка `order_status_df_list` — в датафрейм `df_order_status`, а из списка `products_df_list` - в датафрейм `df_products`.\n",
    "      \n",
    "5) Проверьте размер каждого датафрейма и убедитесь, что:\n",
    "- `df_orders` имеет размер (4603, 5)\n",
    "- `df_order_status` — (346, 3)\n",
    "- `df_products` — (1677, 4)\n",
    "      \n",
    "6) Сохраните каждый датафрейм в соответствующий csv файл, задав его название как строку и параметр `index=False`.\n",
    "      \n",
    "7) По одному скачайте получившиеся csv файлы из той же папки в JupyterHub, где находится ноутбук, в котором вы пишете этот код.\n",
    "\n",
    "      \n",
    "</p>\n",
    "</details>"
   ]
  },
  {
   "cell_type": "code",
   "execution_count": 103,
   "metadata": {},
   "outputs": [],
   "source": [
    "import pandas as pd\n",
    "import os\n"
   ]
  },
  {
   "cell_type": "code",
   "execution_count": 104,
   "metadata": {},
   "outputs": [],
   "source": [
    "data_path = '/mnt/HC_Volume_18315164/home-jupyter/jupyter-s-zagraevskaja/shared/homeworks/python_ds_miniprojects/final_project/data'\n"
   ]
  },
  {
   "cell_type": "code",
   "execution_count": 105,
   "metadata": {},
   "outputs": [],
   "source": [
    "target_files = ['orders.csv', 'order_status.csv', 'products.csv']\n"
   ]
  },
  {
   "cell_type": "code",
   "execution_count": 106,
   "metadata": {},
   "outputs": [],
   "source": [
    "data_files = []\n"
   ]
  },
  {
   "cell_type": "code",
   "execution_count": 107,
   "metadata": {},
   "outputs": [],
   "source": [
    "for root, dirs, files in os.walk(data_path):\n",
    "    for file in files:\n",
    "        # Добавляем путь к файлу, если он в списке target_files\n",
    "        if file in target_files:\n",
    "            data_files.append(os.path.join(root, file))\n"
   ]
  },
  {
   "cell_type": "code",
   "execution_count": 108,
   "metadata": {},
   "outputs": [],
   "source": [
    "orders_df_list = []\n",
    "order_status_df_list = []\n",
    "products_df_list = []\n"
   ]
  },
  {
   "cell_type": "code",
   "execution_count": 109,
   "metadata": {},
   "outputs": [],
   "source": [
    "for file_path in data_files:\n",
    "    if 'orders.csv' in file_path:\n",
    "        # Загружаем данные и добавляем столбцы manager и date\n",
    "        df = pd.read_csv(file_path)\n",
    "        df['manager'] = os.path.basename(os.path.dirname(file_path))\n",
    "        df['date'] = os.path.basename(os.path.dirname(os.path.dirname(file_path)))\n",
    "        orders_df_list.append(df)\n",
    "    elif 'order_status.csv' in file_path:\n",
    "        # Загружаем статус заказа\n",
    "        df = pd.read_csv(file_path)\n",
    "        order_status_df_list.append(df)\n",
    "    elif 'products.csv' in file_path:\n",
    "        # Загружаем данные по продуктам и добавляем category\n",
    "        df = pd.read_csv(file_path)\n",
    "        df['category'] = os.path.basename(os.path.dirname(file_path))\n",
    "        products_df_list.append(df)\n"
   ]
  },
  {
   "cell_type": "code",
   "execution_count": 110,
   "metadata": {},
   "outputs": [],
   "source": [
    "df_orders = pd.concat(orders_df_list, ignore_index=True)\n",
    "df_order_status = pd.concat(order_status_df_list, ignore_index=True)\n",
    "df_products = pd.concat(products_df_list, ignore_index=True)\n"
   ]
  },
  {
   "cell_type": "code",
   "execution_count": 111,
   "metadata": {},
   "outputs": [
    {
     "name": "stdout",
     "output_type": "stream",
     "text": [
      "Размер df_orders: (4603, 5)\n",
      "Размер df_order_status: (346, 3)\n",
      "Размер df_products: (1677, 4)\n"
     ]
    }
   ],
   "source": [
    "print(f\"Размер df_orders: {df_orders.shape}\")\n",
    "print(f\"Размер df_order_status: {df_order_status.shape}\")\n",
    "print(f\"Размер df_products: {df_products.shape}\")\n"
   ]
  },
  {
   "cell_type": "code",
   "execution_count": 112,
   "metadata": {},
   "outputs": [],
   "source": [
    "df_orders.to_csv('df_orders.csv', index=False)\n",
    "df_order_status.to_csv('df_order_status.csv', index=False)\n",
    "df_products.to_csv('df_products.csv', index=False)\n"
   ]
  },
  {
   "cell_type": "markdown",
   "metadata": {},
   "source": [
    "### Посмотрим на общую динамику заказов и определим дни, которые выбиваются из общей картины"
   ]
  },
  {
   "cell_type": "markdown",
   "metadata": {},
   "source": [
    "## Шаг 3"
   ]
  },
  {
   "cell_type": "markdown",
   "metadata": {},
   "source": [
    "Посчитайте количество заказов в каждый день. **Определите день с наибольшим числом заказов.** Укажите этот день в том формате, в котором он представлен в данных (гггг-мм-дд)."
   ]
  },
  {
   "cell_type": "markdown",
   "metadata": {},
   "source": [
    "<details>\n",
    "<summary>&#9658; Нажмите сюда, чтобы увидеть подсказку</summary>\n",
    "  <p>\n",
    "      \n",
    "1) Переведите колонку `date` в тип `datetime`.\n",
    "      \n",
    "2) Сгруппируйте данные по дате и посчитайте число уникальных заказов. Получившуюся колонку с числом заказов можете переименовать в `orders`.\n",
    "      \n",
    "3) Отсортируйте данные по убыванию числа заказов и возьмите дату из верхней строчки.\n",
    "      \n",
    "</p>\n",
    "</details>"
   ]
  },
  {
   "cell_type": "code",
   "execution_count": 113,
   "metadata": {},
   "outputs": [],
   "source": [
    "df_orders = pd.read_csv('df_orders.csv')\n",
    "df_order_status = pd.read_csv('df_order_status.csv')\n",
    "df_products = pd.read_csv('df_products.csv')\n"
   ]
  },
  {
   "cell_type": "code",
   "execution_count": 114,
   "metadata": {},
   "outputs": [
    {
     "data": {
      "text/plain": [
       "date      2024-03-14 00:00:00\n",
       "orders                    437\n",
       "Name: 13, dtype: object"
      ]
     },
     "execution_count": 114,
     "metadata": {},
     "output_type": "execute_result"
    }
   ],
   "source": [
    "# 1. Преобразуем колонку 'date' в формат datetime\n",
    "df_orders['date'] = pd.to_datetime(df_orders['date'])\n",
    "\n",
    "# 2. Сгруппируем данные по дате и посчитаем число уникальных заказов\n",
    "orders_by_date = df_orders.groupby('date').size().reset_index(name='orders')\n",
    "\n",
    "# 3. Отсортируем данные по убыванию числа заказов и возьмем верхнюю строчку\n",
    "top_day = orders_by_date.sort_values(by='orders', ascending=False).iloc[0]\n",
    "\n",
    "top_day\n"
   ]
  },
  {
   "cell_type": "markdown",
   "metadata": {},
   "source": [
    "## Шаг 4"
   ]
  },
  {
   "cell_type": "markdown",
   "metadata": {},
   "source": [
    "**Постройте график с количеством заказов по дням и определите, заметна ли в данных сезонность.**\n",
    "\n",
    "- Да, по выходным заказов намного больше, чем в остальные дни  \n",
    "- Да, по выходным почти нет заказов  \n",
    "- Да, по понедельникам заказов всегда больше, чем в остальные дни недели  \n",
    "- Да, по понедельникам заказов всегда меньше, чем в остальные дни недели  \n",
    "- Нет, в данных сложно обнаружить какие-то закономерности  "
   ]
  },
  {
   "cell_type": "markdown",
   "metadata": {},
   "source": [
    "<details>\n",
    "<summary>&#9658; Нажмите сюда, чтобы увидеть подсказку</summary>\n",
    "  <p>\n",
    "      \n",
    "1) Импортируйте библиотеку `seaborn` и модуль `pyplot` из библиотеки `matplotlib`.\n",
    "      \n",
    "2) Чтобы все графики в ноутбуке имели одинаковое форматирование, можете установить общие настройки через `sns.set()`.\n",
    "      \n",
    "3) Постройте линейный график, где по оси `х` будут идти даты, а по оси `у` — количество заказов. Если метки с датами наползают друг на друга, поверните их под углом 45 градусов.\n",
    "      \n",
    "</p>\n",
    "</details>"
   ]
  },
  {
   "cell_type": "code",
   "execution_count": 115,
   "metadata": {},
   "outputs": [
    {
     "data": {
      "image/png": "[encoded data removed]",
      "text/plain": [
       "<Figure size 720x432 with 1 Axes>"
      ]
     },
     "metadata": {
      "needs_background": "light"
     },
     "output_type": "display_data"
    }
   ],
   "source": [
    "import matplotlib.pyplot as plt\n",
    "\n",
    "# Сгруппируем данные по дате и посчитаем количество заказов\n",
    "orders_by_date = df_orders.groupby('date').size().reset_index(name='orders')\n",
    "\n",
    "# Построим график\n",
    "plt.figure(figsize=(10, 6))\n",
    "plt.plot(orders_by_date['date'], orders_by_date['orders'], marker='o')\n",
    "plt.title('Количество заказов по дням')\n",
    "plt.xlabel('Дата')\n",
    "plt.ylabel('Количество заказов')\n",
    "plt.grid(True)\n",
    "plt.xticks(rotation=45)\n",
    "plt.tight_layout()\n",
    "plt.show()\n"
   ]
  },
  {
   "cell_type": "code",
   "execution_count": 116,
   "metadata": {},
   "outputs": [
    {
     "data": {
      "image/png": "[encoded data removed]",
      "text/plain": [
       "<Figure size 720x432 with 1 Axes>"
      ]
     },
     "metadata": {
      "needs_background": "light"
     },
     "output_type": "display_data"
    },
    {
     "data": {
      "text/html": [
       "<div>\n",
       "<style scoped>\n",
       "    .dataframe tbody tr th:only-of-type {\n",
       "        vertical-align: middle;\n",
       "    }\n",
       "\n",
       "    .dataframe tbody tr th {\n",
       "        vertical-align: top;\n",
       "    }\n",
       "\n",
       "    .dataframe thead th {\n",
       "        text-align: right;\n",
       "    }\n",
       "</style>\n",
       "<table border=\"1\" class=\"dataframe\">\n",
       "  <thead>\n",
       "    <tr style=\"text-align: right;\">\n",
       "      <th></th>\n",
       "      <th>weekday</th>\n",
       "      <th>orders</th>\n",
       "    </tr>\n",
       "  </thead>\n",
       "  <tbody>\n",
       "    <tr>\n",
       "      <th>1</th>\n",
       "      <td>Monday</td>\n",
       "      <td>616</td>\n",
       "    </tr>\n",
       "    <tr>\n",
       "      <th>5</th>\n",
       "      <td>Tuesday</td>\n",
       "      <td>828</td>\n",
       "    </tr>\n",
       "    <tr>\n",
       "      <th>6</th>\n",
       "      <td>Wednesday</td>\n",
       "      <td>985</td>\n",
       "    </tr>\n",
       "    <tr>\n",
       "      <th>4</th>\n",
       "      <td>Thursday</td>\n",
       "      <td>945</td>\n",
       "    </tr>\n",
       "    <tr>\n",
       "      <th>0</th>\n",
       "      <td>Friday</td>\n",
       "      <td>964</td>\n",
       "    </tr>\n",
       "    <tr>\n",
       "      <th>2</th>\n",
       "      <td>Saturday</td>\n",
       "      <td>136</td>\n",
       "    </tr>\n",
       "    <tr>\n",
       "      <th>3</th>\n",
       "      <td>Sunday</td>\n",
       "      <td>129</td>\n",
       "    </tr>\n",
       "  </tbody>\n",
       "</table>\n",
       "</div>"
      ],
      "text/plain": [
       "     weekday  orders\n",
       "1     Monday     616\n",
       "5    Tuesday     828\n",
       "6  Wednesday     985\n",
       "4   Thursday     945\n",
       "0     Friday     964\n",
       "2   Saturday     136\n",
       "3     Sunday     129"
      ]
     },
     "execution_count": 116,
     "metadata": {},
     "output_type": "execute_result"
    }
   ],
   "source": [
    "# Добавим колонку с днем недели\n",
    "df_orders['weekday'] = df_orders['date'].dt.day_name()\n",
    "\n",
    "# Сгруппируем данные по дням недели и посчитаем количество заказов\n",
    "orders_by_weekday = df_orders.groupby('weekday').size().reset_index(name='orders')\n",
    "\n",
    "# Переупорядочим дни недели для правильного отображения\n",
    "days_order = ['Monday', 'Tuesday', 'Wednesday', 'Thursday', 'Friday', 'Saturday', 'Sunday']\n",
    "orders_by_weekday['weekday'] = pd.Categorical(orders_by_weekday['weekday'], categories=days_order, ordered=True)\n",
    "orders_by_weekday = orders_by_weekday.sort_values('weekday')\n",
    "\n",
    "# Построим график\n",
    "plt.figure(figsize=(10, 6))\n",
    "plt.bar(orders_by_weekday['weekday'], orders_by_weekday['orders'], color='skyblue')\n",
    "plt.title('Количество заказов по дням недели')\n",
    "plt.xlabel('День недели')\n",
    "plt.ylabel('Количество заказов')\n",
    "plt.grid(True)\n",
    "plt.tight_layout()\n",
    "plt.show()\n",
    "\n",
    "orders_by_weekday\n"
   ]
  },
  {
   "cell_type": "markdown",
   "metadata": {},
   "source": [
    "## Шаг 5"
   ]
  },
  {
   "cell_type": "markdown",
   "metadata": {},
   "source": [
    "**Кажется, в данных помимо дня с наибольшим числом заказов есть еще один день, который выбивается из общей картины.** Что это за день:  \n",
    "- Это воскресенье, в которое было много заказов?  \n",
    "- Это понедельник, в который было много заказов?  \n",
    "- Это пятница, в которую было мало заказов?  \n",
    "- Это праздничный день, в который было мало заказов?\n",
    "\n",
    "Подумайте, почему так вышло? Укажите этот день в том формате, в котором он представлен в данных (гггг-мм-дд)"
   ]
  },
  {
   "cell_type": "markdown",
   "metadata": {},
   "source": [
    "<details>\n",
    "<summary>&#9658; Нажмите сюда, чтобы увидеть подсказку</summary>\n",
    "  <p>\n",
    "      \n",
    "Проверьте каждый из четырех предложенных поинтов: есть ли дни, соответствующие одному или нескольким поинтам? Посмотрите на график или на значения в датафрейме с количеством заказов по дням.\n",
    "      \n",
    "</p>\n",
    "</details>"
   ]
  },
  {
   "cell_type": "code",
   "execution_count": 117,
   "metadata": {},
   "outputs": [],
   "source": [
    "#Ответ 8 марта"
   ]
  },
  {
   "cell_type": "markdown",
   "metadata": {},
   "source": [
    "## Шаг 6"
   ]
  },
  {
   "cell_type": "markdown",
   "metadata": {},
   "source": [
    "К вам пришел радостный руководитель отдела продаж и попросил выяснить причину, почему заказы в один из дней резко подскочили, чтобы и дальше увеличивать продажи.\n",
    "\n",
    "Возможно, в день с наибольшим числом заказов (который вы определили на третьем шаге) отдел маркетинга запустил какую-то акцию? Или менеджеры стали активнее предлагать компаниям оформить заказ? Нужно подробнее изучить этот день. Начнем со статусов заказа.\n",
    "\n",
    "**Добавьте к данным о заказах информацию об их статусах. Общий датафрейм назовите `orders_status`. Сохраните получившийся датафрейм в csv файл `orders_status.csv` (при сохранении используйте параметр `index=False`) и отправьте этот csv файл на проверку в LMS.**"
   ]
  },
  {
   "cell_type": "markdown",
   "metadata": {},
   "source": [
    "<details>\n",
    "<summary>&#9658; Нажмите сюда, чтобы увидеть подсказку</summary>\n",
    "  <p>\n",
    "      \n",
    "1) Объедините датафреймы `df_orders` и `df_order_status` в новый `orders_status`.\n",
    "      \n",
    "2) Можете вывести первые строчки нового датафрейма и посмотреть его размер, чтобы убедиться, что объединение прошло корректно.\n",
    "      \n",
    "3) Сохраните датафрейм в csv файл с помощью метода, задав его название как строку `orders_status.csv` и параметр `index=False`.\n",
    "      \n",
    "4) Скачайте получившийся csv файл из той же папки в JupyterHub, где находится ноутбук, в котором вы пишете этот код. \n",
    "      \n",
    "</p>\n",
    "</details>"
   ]
  },
  {
   "cell_type": "code",
   "execution_count": 118,
   "metadata": {},
   "outputs": [
    {
     "name": "stdout",
     "output_type": "stream",
     "text": [
      "Количество столбцов: 7\n"
     ]
    },
    {
     "data": {
      "text/html": [
       "<div>\n",
       "<style scoped>\n",
       "    .dataframe tbody tr th:only-of-type {\n",
       "        vertical-align: middle;\n",
       "    }\n",
       "\n",
       "    .dataframe tbody tr th {\n",
       "        vertical-align: top;\n",
       "    }\n",
       "\n",
       "    .dataframe thead th {\n",
       "        text-align: right;\n",
       "    }\n",
       "</style>\n",
       "<table border=\"1\" class=\"dataframe\">\n",
       "  <thead>\n",
       "    <tr style=\"text-align: right;\">\n",
       "      <th></th>\n",
       "      <th>order_id</th>\n",
       "      <th>product_id</th>\n",
       "      <th>quantity</th>\n",
       "      <th>manager</th>\n",
       "      <th>date</th>\n",
       "      <th>client_id</th>\n",
       "      <th>status</th>\n",
       "    </tr>\n",
       "  </thead>\n",
       "  <tbody>\n",
       "    <tr>\n",
       "      <th>0</th>\n",
       "      <td>QPLK-54839036</td>\n",
       "      <td>489</td>\n",
       "      <td>11</td>\n",
       "      <td>Владимир Ударников</td>\n",
       "      <td>2024-03-10</td>\n",
       "      <td>52</td>\n",
       "      <td>confirmed</td>\n",
       "    </tr>\n",
       "    <tr>\n",
       "      <th>1</th>\n",
       "      <td>QPLK-54839036</td>\n",
       "      <td>594</td>\n",
       "      <td>6</td>\n",
       "      <td>Владимир Ударников</td>\n",
       "      <td>2024-03-10</td>\n",
       "      <td>52</td>\n",
       "      <td>confirmed</td>\n",
       "    </tr>\n",
       "    <tr>\n",
       "      <th>2</th>\n",
       "      <td>QPLK-54839036</td>\n",
       "      <td>670</td>\n",
       "      <td>16</td>\n",
       "      <td>Владимир Ударников</td>\n",
       "      <td>2024-03-10</td>\n",
       "      <td>52</td>\n",
       "      <td>confirmed</td>\n",
       "    </tr>\n",
       "    <tr>\n",
       "      <th>3</th>\n",
       "      <td>QPLK-54839036</td>\n",
       "      <td>469</td>\n",
       "      <td>9</td>\n",
       "      <td>Владимир Ударников</td>\n",
       "      <td>2024-03-10</td>\n",
       "      <td>52</td>\n",
       "      <td>confirmed</td>\n",
       "    </tr>\n",
       "    <tr>\n",
       "      <th>4</th>\n",
       "      <td>QPLK-54839036</td>\n",
       "      <td>1302</td>\n",
       "      <td>5</td>\n",
       "      <td>Владимир Ударников</td>\n",
       "      <td>2024-03-10</td>\n",
       "      <td>52</td>\n",
       "      <td>confirmed</td>\n",
       "    </tr>\n",
       "  </tbody>\n",
       "</table>\n",
       "</div>"
      ],
      "text/plain": [
       "        order_id  product_id  quantity             manager       date  \\\n",
       "0  QPLK-54839036         489        11  Владимир Ударников 2024-03-10   \n",
       "1  QPLK-54839036         594         6  Владимир Ударников 2024-03-10   \n",
       "2  QPLK-54839036         670        16  Владимир Ударников 2024-03-10   \n",
       "3  QPLK-54839036         469         9  Владимир Ударников 2024-03-10   \n",
       "4  QPLK-54839036        1302         5  Владимир Ударников 2024-03-10   \n",
       "\n",
       "   client_id     status  \n",
       "0         52  confirmed  \n",
       "1         52  confirmed  \n",
       "2         52  confirmed  \n",
       "3         52  confirmed  \n",
       "4         52  confirmed  "
      ]
     },
     "execution_count": 118,
     "metadata": {},
     "output_type": "execute_result"
    }
   ],
   "source": [
    "\n",
    "# Объединим df_orders и df_order_status по общему полю 'order_id'\n",
    "orders_status = pd.merge(df_orders, df_order_status, on='order_id', how='left')\n",
    "# Удаляем колонку 'weekday', если она была добавлена ранее\n",
    "orders_status = orders_status.drop(columns=['weekday'])\n",
    "\n",
    "# Сохраняем итоговый датафрейм с 7 столбцами в CSV\n",
    "orders_status.to_csv('orders_status.csv', index=False)\n",
    "\n",
    "# Проверим количество столбцов и первые строки датафрейма\n",
    "print(f\"Количество столбцов: {len(orders_status.columns)}\")\n",
    "orders_status.head()\n",
    "\n",
    "\n",
    "# Сохраним получившийся датафрейм в CSV файл\n",
    "orders_status.to_csv('orders_status.csv', index=False)\n",
    "\n",
    "# Отобразим первые строки для проверки\n",
    "orders_status.head()\n",
    "\n"
   ]
  },
  {
   "cell_type": "markdown",
   "metadata": {},
   "source": [
    "## Шаг 7"
   ]
  },
  {
   "cell_type": "markdown",
   "metadata": {},
   "source": [
    "Посмотрите на количество и соотношение подтвержденных и отмененных заказов. **В ответе укажите долю отмененных заказов.** Ответ округлите до двух знаков после точки."
   ]
  },
  {
   "cell_type": "markdown",
   "metadata": {},
   "source": [
    "<details>\n",
    "<summary>&#9658; Нажмите сюда, чтобы увидеть подсказку</summary>\n",
    "  <p>\n",
    "      \n",
    "1) Чтобы оставить в данных только информацию о том, был заказ подтвержден или отменен, выберите из датафрейма `orders_status` колонки с номером заказа и статусом, а затем удалите дубликаты (НЕ сохраняйте результат в тот же датафрейм, потому что `orders_status` в полном виде понадобится для решения следующих заданий).\n",
    "\n",
    "2) Посчитайте частоту, с которой встречается каждый из статусов в оставшихся данных.\n",
    "\n",
    "3) Посчитайте долю каждого из статусов. Значения округлите до 2 знаков после точки.\n",
    "\n",
    "      \n",
    "</p>\n",
    "</details>"
   ]
  },
  {
   "cell_type": "code",
   "execution_count": 119,
   "metadata": {},
   "outputs": [
    {
     "name": "stdout",
     "output_type": "stream",
     "text": [
      "confirmed    0.89\n",
      "canceled     0.11\n",
      "Name: status, dtype: float64\n"
     ]
    }
   ],
   "source": [
    "# 1. Выберем колонки с номером заказа и статусом, затем удалим дубликаты\n",
    "order_status_unique = orders_status[['order_id', 'status']].drop_duplicates()\n",
    "\n",
    "# 2. Посчитаем частоту каждого статуса\n",
    "status_counts = order_status_unique['status'].value_counts()\n",
    "\n",
    "# 3. Посчитаем долю каждого статуса и округлим до 2 знаков после запятой\n",
    "status_percentage = round((status_counts / status_counts.sum()), 2)\n",
    "\n",
    "# Выведем результат\n",
    "print(status_percentage)\n"
   ]
  },
  {
   "cell_type": "code",
   "execution_count": 120,
   "metadata": {},
   "outputs": [],
   "source": [
    "#0.11"
   ]
  },
  {
   "cell_type": "markdown",
   "metadata": {},
   "source": [
    "## Шаг 8"
   ]
  },
  {
   "cell_type": "markdown",
   "metadata": {},
   "source": [
    "**Посчитайте количество подтвержденных и отмененных заказов на каждую дату.** Определите, в какой день не было ни одного подтвержденного заказа. Для этого сделайте сводную таблицу, где в строках будут даты, в колонках — стутасы заказов, а значения — число заказов с этим статусом в определенную дату. Пропуски заполните нулями.  \n",
    "\n",
    "**В ответ укажите день, когда не было ни одного подтвержденного заказа.** Дату укажите в том формате, в котором она представлена в данных (гггг-мм-дд)."
   ]
  },
  {
   "cell_type": "markdown",
   "metadata": {},
   "source": [
    "<details>\n",
    "<summary>&#9658; Нажмите сюда, чтобы увидеть подсказку</summary>\n",
    "  <p>\n",
    "      \n",
    "1) Данные в датафрейме `orders_status` сгруппируйте по дате и статусу, посчитайте количество уникальных заказов для каждой группы. Получившуюся колонку с числом заказов можете переименовать в `orders`.\n",
    "      \n",
    "2) Разверните получившийся датафрейм так, чтобы получилась сводная таблица, где в индексе — даты, в колонках — статусы, а в значениях — количество заказов. \n",
    "      \n",
    "3) Пропуски заполните нулями.\n",
    "      \n",
    "4) Из-за того, что после разворота таблицы в колонках `canceled` и `confirmed` появились пропущенные значения, тип данных в этих колонках стал `float`. Но число заказов не может быть дробным, поэтому приведите эти колонки к типу `int`.\n",
    "      \n",
    "5) Отфильтруйте строки, где значение в колонке `confirmed` равно нулю.\n",
    "      \n",
    "</p>\n",
    "</details>"
   ]
  },
  {
   "cell_type": "code",
   "execution_count": 138,
   "metadata": {},
   "outputs": [
    {
     "data": {
      "text/plain": [
       "DatetimeIndex(['2024-03-09'], dtype='datetime64[ns]', name='date', freq=None)"
      ]
     },
     "execution_count": 138,
     "metadata": {},
     "output_type": "execute_result"
    }
   ],
   "source": [
    "# 1. Сгруппируем данные по дате и статусу, посчитаем количество уникальных заказов для каждой группы\n",
    "orders_by_date_status = orders_status.groupby(['date', 'status']).size().reset_index(name='orders')\n",
    "\n",
    "# 2. Развернем получившийся датафрейм, чтобы получить сводную таблицу\n",
    "pivot_table = orders_by_date_status.pivot_table(index='date', columns='status', values='orders', fill_value=0)\n",
    "\n",
    "# 3. Пропуски уже заполнены нулями при развороте таблицы\n",
    "\n",
    "# 4. Приведем колонки к типу int, чтобы избавиться от дробных значений\n",
    "pivot_table = pivot_table.astype(int)\n",
    "\n",
    "# 5. Отфильтруем строки, где значение в колонке confirmed равно нулю\n",
    "no_confirmed_orders = pivot_table[pivot_table['confirmed'] == 0]\n",
    "\n",
    "# Выведем день, когда не было подтвержденных заказов\n",
    "no_confirmed_orders.index\n"
   ]
  },
  {
   "cell_type": "markdown",
   "metadata": {},
   "source": [
    "## Шаг 9"
   ]
  },
  {
   "cell_type": "markdown",
   "metadata": {},
   "source": [
    "**Постройте график с заказами по дням в разбивке по статусу заказа.** Посмотрим подробнее на день с наибольшим числом заказов (вместе и подтвержденных, и отменных), который мы определили ранее, и на день, предшествующий ему. Какой вывод можно сделать? Выберите один или несколько вариантов:\n",
    "\n",
    "- В день с наибольшим числом заказов было очень много отмен  \n",
    "- В день с наибольшим числом заказов было много успешно оформленных заказов  \n",
    "- В день, предшествующий дню с наибольшим числом заказов, было много отмен  \n",
    "- В день, предшествующий дню с наибольшим числом заказов, было много успешно оформленных заказов  \n",
    "- В день, предшествующий дню с наибольшим числом заказов, не было ни одного успешно оформленного заказа  \n",
    "- В день, предшествующий дню с наибольшим числом заказов, не было ни одного отмененного заказа"
   ]
  },
  {
   "cell_type": "markdown",
   "metadata": {},
   "source": [
    "<details>\n",
    "<summary>&#9658; Нажмите сюда, чтобы увидеть подсказку</summary>\n",
    "  <p>\n",
    "      \n",
    "Постройте линейный график, где по оси `х` будут идти даты, по оси `у` — количество заказов, а цвета линий будут определены статусами заказов. Если метки с датами наползают друг на друга, поверните их под углом 45 градусов.\n",
    "\n",
    "</p>\n",
    "</details>"
   ]
  },
  {
   "cell_type": "code",
   "execution_count": 122,
   "metadata": {},
   "outputs": [
    {
     "data": {
      "image/png": "[encoded data removed]",
      "text/plain": [
       "<Figure size 720x432 with 1 Axes>"
      ]
     },
     "metadata": {
      "needs_background": "light"
     },
     "output_type": "display_data"
    }
   ],
   "source": [
    "# Построим линейный график с разбивкой по статусу\n",
    "plt.figure(figsize=(10, 6))\n",
    "\n",
    "# Построим графики для каждого статуса\n",
    "for status in orders_by_date_status['status'].unique():\n",
    "    data = orders_by_date_status[orders_by_date_status['status'] == status]\n",
    "    plt.plot(data['date'], data['orders'], marker='o', label=status)\n",
    "\n",
    "# Добавим подписи\n",
    "plt.title('Количество заказов по дням в разбивке по статусу')\n",
    "plt.xlabel('Дата')\n",
    "plt.ylabel('Количество заказов')\n",
    "plt.xticks(rotation=45)  # Повернем метки по оси X под углом 45 градусов\n",
    "plt.legend(title='Статус заказа')\n",
    "plt.grid(True)\n",
    "plt.tight_layout()\n",
    "\n",
    "# Покажем график\n",
    "plt.show()\n",
    "\n"
   ]
  },
  {
   "cell_type": "code",
   "execution_count": 123,
   "metadata": {},
   "outputs": [],
   "source": [
    "#В день с наибольшим числом заказов было много успешно оформленных заказов\n",
    "#В день, предшествующий дню с наибольшим числом заказов, было много отмен"
   ]
  },
  {
   "cell_type": "markdown",
   "metadata": {},
   "source": [
    "## Шаг 10"
   ]
  },
  {
   "cell_type": "markdown",
   "metadata": {},
   "source": [
    "Рассмотрим эти два дня отдельно (день с наибольшим числом заказов, который мы определили ранее, и день, предшествующий ему). Проанализируйте заказы за эти дни и ответьте, какую из этих гипотез можно назвать наиболее правдоподобной.\n",
    "\n",
    "- Так сложилось, что один день оказался крайне неудачным для отдела продаж, все клиенты отменили свои заказы. А на следующий день отдел продаж пытался компенсировать отсутствие продаж в предыдущий и перевыполнил дневной план. Почти все заказы не повторяют вчерашние  \n",
    "- Произошел сбой в работе CRM системы, который не позволил клиентам подтвердить заказ. В результате все созданные в первый день заказы автоматически отменились, поэтому клиентам пришлось оформлять их повторно на следующий день. Почти половина заказов повторяет вчерашние\n",
    "\n",
    "Как можно определить, что заказ повторяет вчерашний? У заказов будут совпадать сразу несколько параметров: клиент, менеджер, количество уникальных товаров в заказе и общее число товаров в штуках. Но номера заказов будут разными."
   ]
  },
  {
   "cell_type": "markdown",
   "metadata": {},
   "source": [
    "<details>\n",
    "<summary>&#9658; Нажмите сюда, чтобы увидеть подсказку</summary>\n",
    "  <p>\n",
    "      \n",
    "1) Отберите все отмененные заказы 13 марта и для каждого заказа агрегируйте данные: посчитайте количество уникальных товаров в нем, сумму единиц всех товаров, а также возьмите менеджера и клиента (примените к соответствующим колонкам функции `max`).\n",
    "      \n",
    "2) Отберите все подтвержденные заказы 14 марта и для каждого заказа агрегируйте данные: посчитайте количество уникальных товаров в нем, сумму единиц всех товаров, а также возьмите менеджера и клиента (примените к соответствующим колонкам функции `max`).\n",
    "      \n",
    "3) Объедините эти датафреймы с заказами по совпадающим характеристикам: имя менеджера, id клиента, число уникальных товаров в заказе и общее число товаров в штуках. Так у вас получатся те заказы, которые отменили в первый день и оформили заново на следующий.\n",
    "      \n",
    "4) Посчитайте число строк в датафрейме с заказами, которые отменили в первый день и оформили заново на следующий. Разделите это число на число строк в датафрейме с подтвержденными заказами 14 марта. Так вы узнаете долю заказов, которые повторяют вчерашние.\n",
    "      \n",
    "</p>\n",
    "</details>"
   ]
  },
  {
   "cell_type": "code",
   "execution_count": 124,
   "metadata": {},
   "outputs": [
    {
     "data": {
      "text/plain": [
       "(16, 0.47058823529411764)"
      ]
     },
     "execution_count": 124,
     "metadata": {},
     "output_type": "execute_result"
    }
   ],
   "source": [
    "# 1. Отберем все отмененные заказы 13 марта и агрегируем их\n",
    "cancelled_orders_13 = orders_status[(orders_status['date'] == '2024-03-13') & (orders_status['status'] == 'canceled')]\n",
    "cancelled_aggregated = cancelled_orders_13.groupby('order_id').agg(\n",
    "    unique_products=('product_id', 'nunique'),\n",
    "    total_quantity=('quantity', 'sum'),\n",
    "    manager=('manager', 'max'),\n",
    "    client_id=('client_id', 'max')\n",
    ").reset_index()\n",
    "\n",
    "# 2. Отберем все подтвержденные заказы 14 марта и агрегируем их\n",
    "confirmed_orders_14 = orders_status[(orders_status['date'] == '2024-03-14') & (orders_status['status'] == 'confirmed')]\n",
    "confirmed_aggregated = confirmed_orders_14.groupby('order_id').agg(\n",
    "    unique_products=('product_id', 'nunique'),\n",
    "    total_quantity=('quantity', 'sum'),\n",
    "    manager=('manager', 'max'),\n",
    "    client_id=('client_id', 'max')\n",
    ").reset_index()\n",
    "\n",
    "# 3. Объединим эти датафреймы по совпадающим характеристикам: менеджер, клиент, уникальные товары, общее количество товаров\n",
    "repeated_orders = pd.merge(\n",
    "    cancelled_aggregated,\n",
    "    confirmed_aggregated,\n",
    "    on=['manager', 'client_id', 'unique_products', 'total_quantity'],\n",
    "    how='inner'\n",
    ")\n",
    "\n",
    "# 4. Посчитаем долю повторяющихся заказов\n",
    "repeated_count = len(repeated_orders)\n",
    "confirmed_count = len(confirmed_aggregated)\n",
    "repeated_ratio = repeated_count / confirmed_count\n",
    "\n",
    "repeated_count, repeated_ratio\n",
    "\n"
   ]
  },
  {
   "cell_type": "code",
   "execution_count": 125,
   "metadata": {},
   "outputs": [],
   "source": [
    "#Произошел сбой в работе CRM системы, который не позволил клиентам подтвердить заказ. В результате все созданные в первый день заказы автоматически отменились, поэтому клиентам пришлось оформлять их повторно на следующий день. Почти половина заказов повторяет вчерашние."
   ]
  },
  {
   "cell_type": "markdown",
   "metadata": {},
   "source": [
    "### Посчитаем ключевые метрики, посмотрим на их динамику и составим небольшой отчет"
   ]
  },
  {
   "cell_type": "markdown",
   "metadata": {},
   "source": [
    "## Шаг 11"
   ]
  },
  {
   "cell_type": "markdown",
   "metadata": {},
   "source": [
    "**У вас есть данные за целый месяц, поэтому пора посчитать ключевые метрики этого месяца.** Но вот незадача - в ваших данных цена единицы товара указана в долларах США, потому что закупаете их в долларах, но продаете товары за российские рубли (по тому курсу, который установил Центробанк на дату продажи), а значит и метрики требуется посчитать в рублях. Хорошо, что у вас есть текстовый файл с курсом доллара США на каждую дату. **Откройте файл `usd_rate.txt`, соберите из него датафрейм с 2 колонками: `date` и `currency_rate`. Посчитайте среднее значение курса доллара за месяц.** Результат округлите до двух знаков после точки."
   ]
  },
  {
   "cell_type": "markdown",
   "metadata": {},
   "source": [
    "<details>\n",
    "<summary>&#9658; Нажмите сюда, чтобы увидеть подсказку</summary>\n",
    "  <p>\n",
    "      \n",
    "1) Откройте файл `usd_rate.txt` с помощью контекстного менеджера `with` и функции `open()`. Список строк сохраните в переменную `currency`.\n",
    "      \n",
    "2) С помощью функции `pd.DataFrame(columns=['col_name'])` создайте из списка датафрейм с любым названием единственной колонки.\n",
    "      \n",
    "3) На основе имеющейся колонки создайте колонки `date` и `currency_rate`, куда положите соответствующие данные. Для этого разделите общую строку со всеми данными и возьмите нужные данные по индексу.\n",
    "      \n",
    "4) Переведите колонку `date` в тип `datetime`.\n",
    "      \n",
    "5) Удалите из датафрейма ненужную колонку с общими данными.\n",
    "      \n",
    "6) Посчитайте среднее значение курса доллара за месяц.\n",
    "      \n",
    "7) Результат округлите до двух знаков после точки.   \n",
    "      \n",
    "</p>\n",
    "</details>"
   ]
  },
  {
   "cell_type": "code",
   "execution_count": 140,
   "metadata": {},
   "outputs": [
    {
     "data": {
      "text/plain": [
       "91.7"
      ]
     },
     "execution_count": 140,
     "metadata": {},
     "output_type": "execute_result"
    }
   ],
   "source": [
    "# Откроем файл usd_rate.txt и сохраним строки в переменную currency\n",
    "with open('usd_rate.txt', 'r') as file:\n",
    "    currency = file.readlines()\n",
    "\n",
    "# Создадим датафрейм с единственной колонкой, содержащей строки из файла\n",
    "df_currency = pd.DataFrame(currency, columns=['raw_data'])\n",
    "\n",
    "# Отфильтруем строки, где нет запятой (ожидаемый формат: \"дата,курс\")\n",
    "df_currency = df_currency[df_currency['raw_data'].str.contains(',')]\n",
    "\n",
    "# Разделим строки по запятым и проверим, что каждая строка содержит ровно два элемента\n",
    "split_data = df_currency['raw_data'].str.split(',', expand=True)\n",
    "\n",
    "# Оставим только строки, где получилось два элемента после разделения\n",
    "split_data = split_data[split_data[1].notna()]\n",
    "\n",
    "# Назначим соответствующие колонки\n",
    "df_currency['date'] = split_data[0]\n",
    "df_currency['currency_rate'] = split_data[1]\n",
    "\n",
    "# Переведем колонку date в формат datetime\n",
    "df_currency['date'] = pd.to_datetime(df_currency['date'])\n",
    "\n",
    "# Переведем колонку currency_rate в числовой тип (float)\n",
    "df_currency['currency_rate'] = pd.to_numeric(df_currency['currency_rate'], errors='coerce')\n",
    "\n",
    "# Удалим ненужную колонку raw_data\n",
    "df_currency.drop(columns=['raw_data'], inplace=True)\n",
    "\n",
    "# Посчитаем среднее значение курса доллара за месяц\n",
    "average_currency_rate = round(df_currency['currency_rate'].mean(), 2)\n",
    "\n",
    "average_currency_rate\n"
   ]
  },
  {
   "cell_type": "markdown",
   "metadata": {},
   "source": [
    "## Шаг 12"
   ]
  },
  {
   "cell_type": "markdown",
   "metadata": {},
   "source": [
    "**Работу с ключевыми метриками начните с подсчета общей выручки.** Данные по товарам в подтвержденных заказах у вас есть в датафрейме `orders_status`, а стоимость одной единицы товара можно взять из датафрейма `df_products`. Объедините эти датафреймы в общий `df_full`, добавьте к ним информацию по курсу доллара на каждую дату. Создайте колонку с выручкой для каждого товара в заказах и посчитайте, **чему равна общая выручка в рублях?** Учитывайте только подтвержденные заказы. Результат округлите до двух знаков после точки."
   ]
  },
  {
   "cell_type": "markdown",
   "metadata": {},
   "source": [
    "<details>\n",
    "<summary>&#9658; Нажмите сюда, чтобы увидеть подсказку</summary>\n",
    "  <p>\n",
    "      \n",
    "1) Присоедините к датафрейму `orders_status` датафрейм `df_products`, указав, что ключом в левом датафрейме будет являться колонка `product_id` (параметр `left_on`), а в правом — колонка `id` (параметр `right_on`). Новый датафрейм сохраните в `df_full`.\n",
    "      \n",
    "2) К датафрейму `df_full` добавьте информацию о курсе доллара на каждую дату, присоединив датафрейм `df_currency` по общей колонке с датой.\n",
    "      \n",
    "3) Создайте колонку `price_rub` с ценами в рублях. Для этого умножьте значения в колонке `price` с ценами на значения в колонке `currency_rate` с курсом валюты.\n",
    "      \n",
    "4) Создайте колонку `revenue` с выручкой, умножив колонку со стоимостью единицы товара в рублях на колонку с количеством товара.\n",
    "      \n",
    "5) Отберите только записи с подтвержденными заказами и сохраните результат в датафрейм `df_confirmed`, он вам ещё пригодится.\n",
    "      \n",
    "6) Суммируйте значения в колонке `revenue` и округлите результат до двух знаков после точки.\n",
    "      \n",
    "</p>\n",
    "</details>"
   ]
  },
  {
   "cell_type": "code",
   "execution_count": 127,
   "metadata": {},
   "outputs": [
    {
     "data": {
      "text/plain": [
       "2038231821.56"
      ]
     },
     "execution_count": 127,
     "metadata": {},
     "output_type": "execute_result"
    }
   ],
   "source": [
    "# 1. Присоединяем к датафрейму orders_status датафрейм df_products по ключам\n",
    "df_full = pd.merge(orders_status, df_products, left_on='product_id', right_on='id', how='left')\n",
    "\n",
    "# 2. Присоединяем к датафрейму df_full информацию о курсе доллара по дате\n",
    "df_full = pd.merge(df_full, df_currency, on='date', how='left')\n",
    "\n",
    "# 3. Создаем колонку price_rub с ценой в рублях (умножаем цену на курс)\n",
    "df_full['price_rub'] = df_full['price'] * df_full['currency_rate']\n",
    "\n",
    "# 4. Создаем колонку revenue с выручкой (умножаем цену в рублях на количество товара)\n",
    "df_full['revenue'] = df_full['price_rub'] * df_full['quantity']\n",
    "\n",
    "# 5. Отбираем только подтвержденные заказы\n",
    "df_confirmed = df_full[df_full['status'] == 'confirmed']\n",
    "\n",
    "# 6. Суммируем значения в колонке revenue и округляем результат до двух знаков\n",
    "total_revenue = round(df_confirmed['revenue'].sum(), 2)\n",
    "\n",
    "total_revenue\n"
   ]
  },
  {
   "cell_type": "markdown",
   "metadata": {},
   "source": [
    "## Шаг 13"
   ]
  },
  {
   "cell_type": "markdown",
   "metadata": {},
   "source": [
    "**Следующая метрика, которую вам нужно посчитать — средний чек в этом месяце (в рублях).** Разделите общую выручку на количество заказов. Результат округлите до двух знаков после точки."
   ]
  },
  {
   "cell_type": "markdown",
   "metadata": {},
   "source": [
    "<details>\n",
    "<summary>&#9658; Нажмите сюда, чтобы увидеть подсказку</summary>\n",
    "  <p>\n",
    "      \n",
    "1) Посчитайте число уникальных подтвержденных заказов.\n",
    "\n",
    "2) Разделите сумму выручки, посчитанную на прошлом шаге (без округления), на это число.\n",
    "\n",
    "3) Результат округлите до двух знаков после точки.  \n",
    "      \n",
    "</p>\n",
    "</details>"
   ]
  },
  {
   "cell_type": "code",
   "execution_count": 128,
   "metadata": {},
   "outputs": [
    {
     "data": {
      "text/plain": [
       "6596219.49"
      ]
     },
     "execution_count": 128,
     "metadata": {},
     "output_type": "execute_result"
    }
   ],
   "source": [
    "# 1. Посчитаем количество уникальных подтвержденных заказов\n",
    "unique_confirmed_orders = df_confirmed['order_id'].nunique()\n",
    "\n",
    "# 2. Рассчитаем средний чек, разделив общую выручку на количество уникальных заказов\n",
    "average_check = round(df_confirmed['revenue'].sum() / unique_confirmed_orders, 2)\n",
    "\n",
    "average_check\n",
    "\n"
   ]
  },
  {
   "cell_type": "markdown",
   "metadata": {},
   "source": [
    "## Шаг 14"
   ]
  },
  {
   "cell_type": "markdown",
   "metadata": {},
   "source": [
    "Ключевые метрики месяца вы посчитали, теперь попробуйте посмотреть на их динамику внутри месяца: посчитайте выручку, средний чек и число заказов — на каждый день. Посмотрите на графики и выберите верные ответы:\n",
    "\n",
    "- число заказов и выручка каждый день изменяются в одинаковом направлении (если в этот день число заказов выросло, то и выручка выросла; число заказов упало — в этот же день упала и выручка)  \n",
    "- число заказов и выручка не каждый день изменяются в одинаковом направлении (если в какой-то день число заказов выросло, то выручка может упасть, и наоборот: число заказов упало — в этот же день выручка выросла)  \n",
    "- средний чек и выручка каждый день изменяются в одинаковом направлении (если в этот день средний чек вырос, то и выручка выросла; средний чек упал — в этот же день упала и выручка)  \n",
    "- средний чек и выручка не каждый день изменяются в одинаковом направлении (если в какой-то день средний чек вырос, то выручка может упасть, и наоборот: средний чек упал — в этот же день выручка выросла)  \n",
    "- в день с наибольшим числом заказов и выручка, и средний чек также показывают максимальное значение  \n",
    "- в день с наибольшим числом заказов выручка и/или средний чек не показывают максимальное значение  \n",
    "- с течением времени выручка то увеличивается, то уменьшается  \n",
    "- с течением времени выручка только увеличивается  \n",
    "- на протяжении всего месяца средний чек то увеличивается, то уменьшается  \n",
    "- средний чек на протяжении всего месяца имеет одинаковое значение"
   ]
  },
  {
   "cell_type": "markdown",
   "metadata": {},
   "source": [
    "<details>\n",
    "<summary>&#9658; Нажмите сюда, чтобы увидеть подсказку</summary>\n",
    "  <p>\n",
    "      \n",
    "1) Сгруппируйте датафрейм `df_confirmed` с подтвержденными заказами по дате и посчитайте на каждую дату число ункальных заказов и выручку. Результат сохраните в датафрейм `df_report_by_date`. Получившуюся колонку с числом заказов можете переименовать в `orders`. \n",
    "      \n",
    "2) Создайте колонку со значением среднего чека в каждую дату, для этого разделите значения в колонке с выручкой на значения в колонке с числом заказов. Результат округлите до двух знаков после точки\n",
    "      \n",
    "3) Постройте три линейных графика, один под другим (в одной ячейке или в разных)\n",
    "      \n",
    "</p>\n",
    "</details>"
   ]
  },
  {
   "cell_type": "code",
   "execution_count": 129,
   "metadata": {},
   "outputs": [
    {
     "data": {
      "image/png": "[encoded data removed]",
      "text/plain": [
       "<Figure size 720x1008 with 3 Axes>"
      ]
     },
     "metadata": {
      "needs_background": "light"
     },
     "output_type": "display_data"
    }
   ],
   "source": [
    "# 1. Сгруппируем df_confirmed по дате и посчитаем количество уникальных заказов и выручку\n",
    "df_report_by_date = df_confirmed.groupby('date').agg(\n",
    "    orders=('order_id', 'nunique'),\n",
    "    total_revenue=('revenue', 'sum')\n",
    ").reset_index()\n",
    "\n",
    "# 2. Создадим колонку со значением среднего чека на каждую дату\n",
    "df_report_by_date['average_check'] = round(df_report_by_date['total_revenue'] / df_report_by_date['orders'], 2)\n",
    "\n",
    "# 3. Построим три линейных графика\n",
    "\n",
    "plt.figure(figsize=(10, 14))\n",
    "\n",
    "# График 1: Количество заказов по дням\n",
    "plt.subplot(3, 1, 1)\n",
    "plt.plot(df_report_by_date['date'], df_report_by_date['orders'], marker='o', color='blue')\n",
    "plt.title('Количество заказов по дням')\n",
    "plt.xlabel('Дата')\n",
    "plt.ylabel('Число заказов')\n",
    "plt.xticks(rotation=45)\n",
    "plt.grid(True)\n",
    "\n",
    "# График 2: Выручка по дням\n",
    "plt.subplot(3, 1, 2)\n",
    "plt.plot(df_report_by_date['date'], df_report_by_date['total_revenue'], marker='o', color='green')\n",
    "plt.title('Выручка по дням')\n",
    "plt.xlabel('Дата')\n",
    "plt.ylabel('Выручка')\n",
    "plt.xticks(rotation=45)\n",
    "plt.grid(True)\n",
    "\n",
    "# График 3: Средний чек по дням\n",
    "plt.subplot(3, 1, 3)\n",
    "plt.plot(df_report_by_date['date'], df_report_by_date['average_check'], marker='o', color='red')\n",
    "plt.title('Средний чек по дням')\n",
    "plt.xlabel('Дата')\n",
    "plt.ylabel('Средний чек')\n",
    "plt.xticks(rotation=45)\n",
    "plt.grid(True)\n",
    "\n",
    "plt.tight_layout()\n",
    "plt.show()\n",
    "\n",
    "\n"
   ]
  },
  {
   "cell_type": "code",
   "execution_count": 130,
   "metadata": {},
   "outputs": [],
   "source": [
    "#число заказов и выручка не каждый день изменяются в одинаковом направлении (если в какой-то день число заказов выросло, то выручка может упасть, и наоборот: число заказов упало — в этот же день выручка выросла)\n",
    "#средний чек и выручка не каждый день изменяются в одинаковом направлении (если в какой-то день средний чек вырос, то выручка может упасть, и наоборот: средний чек упал — в этот же день выручка выросла)\n",
    "#в день с наибольшим числом заказов выручка и/или средний чек не показывают максимальное значение\n",
    "#с течением времени выручка то увеличивается, то уменьшается\n",
    "#на протяжении всего месяца средний чек то увеличивается, то уменьшается"
   ]
  },
  {
   "cell_type": "markdown",
   "metadata": {},
   "source": [
    "### Проанализируем интерес клиентов к брендам"
   ]
  },
  {
   "cell_type": "markdown",
   "metadata": {},
   "source": [
    "## Шаг 15"
   ]
  },
  {
   "cell_type": "markdown",
   "metadata": {},
   "source": [
    "К вам снова обратился руководитель отдела продаж. Он хочет разобраться, какие бренды востребованы среди клиентов, а какие — нет. На основе данных о названиях товаров в датафрейме `df_full` создайте новую колонку `brand`, где будет только название бренда. **Посчитайте, сколькими брендами интересовались клиенты** (статус заказа здесь не важен, если запись о бренде попала в данные о заказах, значит клиент заказал или хотел заказать товар этого бренда)."
   ]
  },
  {
   "cell_type": "markdown",
   "metadata": {},
   "source": [
    "<details>\n",
    "<summary>&#9658; Нажмите сюда, чтобы увидеть подсказку</summary>\n",
    "  <p>\n",
    "      \n",
    "1) В датафрейме `df_full` создайте новую колонку `brand`, в которую поместите только названия брендов. Для этого разделите значения в колонке name и возьмите первое из них (сначала идет бренд и через запятую модель товара).\n",
    "\n",
    "2) Посчитайте количество уникальных значений в колонке `brand`.\n",
    "      \n",
    "</p>\n",
    "</details>"
   ]
  },
  {
   "cell_type": "code",
   "execution_count": 131,
   "metadata": {},
   "outputs": [
    {
     "data": {
      "text/plain": [
       "121"
      ]
     },
     "execution_count": 131,
     "metadata": {},
     "output_type": "execute_result"
    }
   ],
   "source": [
    "\n",
    "# 1. Создадим новую колонку brand, взяв из колонки name первую часть (до запятой)\n",
    "df_full['brand'] = df_full['name'].str.split(',').str[0]\n",
    "\n",
    "# 2. Посчитаем количество уникальных брендов\n",
    "unique_brands_count = df_full['brand'].nunique()\n",
    "\n",
    "unique_brands_count\n",
    "\n"
   ]
  },
  {
   "cell_type": "markdown",
   "metadata": {},
   "source": [
    "## Шаг 16"
   ]
  },
  {
   "cell_type": "markdown",
   "metadata": {},
   "source": [
    "Посчитайте, какую выручку принес каждый бренд и в скольких подтвержденных заказах были товары этого бренда. **Определите, какой бренд принес наибольшую выручку.** В ответ укажите его название.\n",
    "\n",
    "Дополнительно: проверьте, именно этот бренд встречается в большем количестве заказов, чем другие бренды? Или может его реже заказывают, но на более крупные суммы?"
   ]
  },
  {
   "cell_type": "markdown",
   "metadata": {},
   "source": [
    "<details>\n",
    "<summary>&#9658; Нажмите сюда, чтобы увидеть подсказку</summary>\n",
    "  <p>\n",
    "      \n",
    "1) Отберите в датафрейме `df_full` только подтвержденные заказы.\n",
    "\n",
    "2) Сгруппируйте данные по брендам и посчитайте выручку и количество уникальных заказов.\n",
    "\n",
    "3) Отсортируйте агрегированные данные по убыванию выручки и посмотрите бренд в верхней строчке.\n",
    "\n",
    "4) Дополнительно: отсортируйте агрегированные данные по убыванию количество заказов и посмотрите бренд в верхней строчке.\n",
    "\n",
    "</p>\n",
    "</details>"
   ]
  },
  {
   "cell_type": "code",
   "execution_count": 132,
   "metadata": {},
   "outputs": [
    {
     "data": {
      "text/plain": [
       "('JBL', 'JBL')"
      ]
     },
     "execution_count": 132,
     "metadata": {},
     "output_type": "execute_result"
    }
   ],
   "source": [
    "# 1. Отбираем только подтвержденные заказы\n",
    "df_confirmed = df_full[df_full['status'] == 'confirmed']\n",
    "\n",
    "# 2. Сгруппируем данные по брендам и посчитаем выручку и количество уникальных заказов\n",
    "brand_agg = df_confirmed.groupby('brand').agg(\n",
    "    total_revenue=('revenue', 'sum'),\n",
    "    unique_orders=('order_id', 'nunique')\n",
    ").reset_index()\n",
    "\n",
    "# 3. Отсортируем данные по убыванию выручки\n",
    "brand_by_revenue = brand_agg.sort_values('total_revenue', ascending=False)\n",
    "\n",
    "# Найдем бренд с наибольшей выручкой\n",
    "top_brand_by_revenue = brand_by_revenue.iloc[0]['brand']\n",
    "\n",
    "# 4. Отсортируем данные по убыванию количества уникальных заказов\n",
    "brand_by_orders = brand_agg.sort_values('unique_orders', ascending=False)\n",
    "\n",
    "# Найдем бренд с наибольшим количеством уникальных заказов\n",
    "top_brand_by_orders = brand_by_orders.iloc[0]['brand']\n",
    "\n",
    "top_brand_by_revenue, top_brand_by_orders\n"
   ]
  },
  {
   "cell_type": "markdown",
   "metadata": {},
   "source": [
    "## Шаг 17"
   ]
  },
  {
   "cell_type": "markdown",
   "metadata": {},
   "source": [
    "У одних брендов большинство товаров востребовано клиентами, а у других — клиенты заказывают только небольшую часть товаров, а остальные зря занимают виртуальную «полку» в перечне товаров, продаваемых вашей компанией. **Вам нужно определить, какие бренды редко попадают в заказы, хотя товаров таких брендов на самом деле много.**\n",
    "\n",
    "Начнем с того, что определим, какие товары из имеющихся в продаже хоть раз заказывали, а какие — нет. Для этого соберите список из перечня уникальных идентификаторов товаров, которые встречаются в датафрейме `df_confirmed`. После этого для каждого товара в датафрейме `df_products` определите, был ли этот товар в списке заказанных товаров в этом месяце или нет: создайте новую колонку `is_in_orders` и заполните её соответственно значениями `yes` или `no` для каждого товара.\n",
    "\n",
    "**В ответе укажите, сколько товаров были заказаны, а сколько — не были**"
   ]
  },
  {
   "cell_type": "markdown",
   "metadata": {},
   "source": [
    "<details>\n",
    "<summary>&#9658; Нажмите сюда, чтобы увидеть подсказку</summary>\n",
    "  <p>\n",
    "      \n",
    "1) Сохраните в список `products_in_orders` уникальные идентификаторы товаров из датафрейма `df_confirmed`.\n",
    "      \n",
    "2) Создайте в датафрейме `df_products` новую колонку `is_in_orders`, в которой будет значение `yes`, если значение из колонки `id` этого датафрейма есть в списке `products_in_orders`. Если его в этом списке нет - в новую колонку для этой строчки запишите значение `no`.\n",
    "      \n",
    "3) Посчитайте количество встречающихся значений `yes` и  `no` в колонке `is_in_orders`.\n",
    "      \n",
    "</p>\n",
    "</details>"
   ]
  },
  {
   "cell_type": "code",
   "execution_count": 133,
   "metadata": {},
   "outputs": [
    {
     "data": {
      "text/plain": [
       "yes    1180\n",
       "no      497\n",
       "Name: is_in_orders, dtype: int64"
      ]
     },
     "execution_count": 133,
     "metadata": {},
     "output_type": "execute_result"
    }
   ],
   "source": [
    "# 1. Сохраним в список products_in_orders уникальные идентификаторы товаров из датафрейма df_confirmed\n",
    "products_in_orders = df_confirmed['product_id'].unique()\n",
    "\n",
    "# 2. Создадим в df_products новую колонку is_in_orders и отметим, если товар был заказан\n",
    "df_products['is_in_orders'] = df_products['id'].apply(lambda x: 'yes' if x in products_in_orders else 'no')\n",
    "\n",
    "# 3. Посчитаем количество встречающихся значений 'yes' и 'no' в колонке is_in_orders\n",
    "order_status_counts = df_products['is_in_orders'].value_counts()\n",
    "\n",
    "order_status_counts\n"
   ]
  },
  {
   "cell_type": "markdown",
   "metadata": {},
   "source": [
    "## Шаг 18"
   ]
  },
  {
   "cell_type": "markdown",
   "metadata": {},
   "source": [
    "Примерно треть товаров не была заказана ни разу в этом месяце. Посмотрим на эти данные в разрезе по брендам. **Определите, у каких брендов доля ни разу не заказанных товаров была больше половины от всех продаваемых товаров этого бренда.** Но не берите в расчет бренды, которые представлены маленьким числом товаров (меньше 15), они не захламляют виртуальную «полку».\n",
    "\n",
    "Отметьте бренды, у которых доля ни разу не заказанных товаров была больше половины от всех продаваемых товаров этого бренда: \n",
    "- AKG  \n",
    "- ASUS\t\n",
    "- Dali  \n",
    "- Emotiva  \n",
    "- KEF  \n",
    "- Marantz  \n",
    "- Onkyo  \n",
    "- Pioneer  \n",
    "- Yaqin"
   ]
  },
  {
   "cell_type": "markdown",
   "metadata": {},
   "source": [
    "<details>\n",
    "<summary>&#9658; Нажмите сюда, чтобы увидеть подсказку</summary>\n",
    "  <p>\n",
    "       \n",
    "1) В датафрейме `df_products` создайте новую колонку `brand`, в которую поместите только названия брендов. Для этого разделите значения в колонке `name` и возьмите первое из них (сначала идет бренд и через запятую модель товара).\n",
    "      \n",
    "2) Сгруппируйте данные по бренду и колонке, в которой указано, есть товар в заказах, и посчитайте число уникальных товаров. Колонку с числом товаров можете переименовать в `products`.\n",
    "      \n",
    "3) Разверните сгруппированные данные так, чтобы получилась сводная таблица в которой в индексе названия брендов, в колонках - есть товар в заказах или нет (`yes` и `no`), в значениях - количество товаров.\n",
    "      \n",
    "4) Заполните пропуски нулями.\n",
    "      \n",
    "5) Сбросьте индекс, чтобы названия брендов стали колонкой.\n",
    "      \n",
    "6) Посчитайте общее число товаров для каждого бренда, сложив значения в колонках `yes` и `no`.\n",
    "      \n",
    "7) Для каждого бренда посчитайте долю ни разу не заказанных товаров от всех продаваемых товаров этого бренда.\n",
    "      \n",
    "8) Отберите только те бренды, где общее число товаров больше 15 и доля ни разу не заказанных товаров больше половины (0.5).\n",
    "      \n",
    "</p>\n",
    "</details>"
   ]
  },
  {
   "cell_type": "code",
   "execution_count": 134,
   "metadata": {},
   "outputs": [
    {
     "data": {
      "text/html": [
       "<div>\n",
       "<style scoped>\n",
       "    .dataframe tbody tr th:only-of-type {\n",
       "        vertical-align: middle;\n",
       "    }\n",
       "\n",
       "    .dataframe tbody tr th {\n",
       "        vertical-align: top;\n",
       "    }\n",
       "\n",
       "    .dataframe thead th {\n",
       "        text-align: right;\n",
       "    }\n",
       "</style>\n",
       "<table border=\"1\" class=\"dataframe\">\n",
       "  <thead>\n",
       "    <tr style=\"text-align: right;\">\n",
       "      <th>is_in_orders</th>\n",
       "      <th>brand</th>\n",
       "      <th>no_order_ratio</th>\n",
       "    </tr>\n",
       "  </thead>\n",
       "  <tbody>\n",
       "    <tr>\n",
       "      <th>32</th>\n",
       "      <td>Dali</td>\n",
       "      <td>0.731343</td>\n",
       "    </tr>\n",
       "    <tr>\n",
       "      <th>60</th>\n",
       "      <td>KEF</td>\n",
       "      <td>0.658537</td>\n",
       "    </tr>\n",
       "    <tr>\n",
       "      <th>77</th>\n",
       "      <td>Marantz</td>\n",
       "      <td>0.863636</td>\n",
       "    </tr>\n",
       "    <tr>\n",
       "      <th>94</th>\n",
       "      <td>Pioneer</td>\n",
       "      <td>0.679612</td>\n",
       "    </tr>\n",
       "  </tbody>\n",
       "</table>\n",
       "</div>"
      ],
      "text/plain": [
       "is_in_orders    brand  no_order_ratio\n",
       "32               Dali        0.731343\n",
       "60                KEF        0.658537\n",
       "77            Marantz        0.863636\n",
       "94            Pioneer        0.679612"
      ]
     },
     "execution_count": 134,
     "metadata": {},
     "output_type": "execute_result"
    }
   ],
   "source": [
    "# 1. Создадим новую колонку brand в df_products, взяв из колонки name первую часть (до запятой)\n",
    "df_products['brand'] = df_products['name'].str.split(',').str[0]\n",
    "\n",
    "# 2. Сгруппируем данные по бренду и колонке is_in_orders, посчитаем число уникальных товаров\n",
    "brand_grouped = df_products.groupby(['brand', 'is_in_orders']).agg(products=('id', 'nunique')).reset_index()\n",
    "\n",
    "# 3. Развернем данные в сводную таблицу, где в колонках значения \"yes\" и \"no\"\n",
    "brand_pivot = brand_grouped.pivot_table(index='brand', columns='is_in_orders', values='products', fill_value=0)\n",
    "\n",
    "# 4. Заполним пропуски нулями (если такие есть)\n",
    "brand_pivot = brand_pivot.fillna(0)\n",
    "\n",
    "# 5. Сбросим индекс, чтобы названия брендов стали колонкой\n",
    "brand_pivot = brand_pivot.reset_index()\n",
    "\n",
    "# 6. Посчитаем общее число товаров для каждого бренда\n",
    "brand_pivot['total_products'] = brand_pivot['yes'] + brand_pivot['no']\n",
    "\n",
    "# 7. Посчитаем долю ни разу не заказанных товаров от всех товаров бренда\n",
    "brand_pivot['no_order_ratio'] = brand_pivot['no'] / brand_pivot['total_products']\n",
    "\n",
    "# 8. Отберем бренды, у которых товаров больше 15 и доля товаров без заказов больше 0.5\n",
    "filtered_brands = brand_pivot[(brand_pivot['total_products'] > 15) & (brand_pivot['no_order_ratio'] > 0.5)]\n",
    "\n",
    "# Выведем бренды\n",
    "filtered_brands[['brand', 'no_order_ratio']]\n",
    "\n"
   ]
  },
  {
   "cell_type": "markdown",
   "metadata": {},
   "source": [
    "### Составим отчет по продажам менеджеров"
   ]
  },
  {
   "cell_type": "markdown",
   "metadata": {},
   "source": [
    "## Шаг 19"
   ]
  },
  {
   "cell_type": "markdown",
   "metadata": {},
   "source": [
    "Чтобы компания знала, кого из менеджеров отдела продаж премировать, а с кем провести беседу по итогам месяца, **вас попросили сделать отчет по сделкам каждого менеджера**: сколько он оформил подтвержденных заказов и какую выручку они принесли. Но в абсолютных числах вклад каждого сотрудника может быть непонятен. **Поэтому посчитайте значения в процентах: какой % выручки от общей выручки за месяц приходится на каждого менеджера, и какой % заказов от общего числа заказов.** Посчитайте данные и визуализируйте результат, чтобы принимать решение о поощрении или проведении беседы с менеджерами было удобнее. Выберите верные ответы:\n",
    "\n",
    "- лучшим менеджером по % выручки стала Маргарита Камертонова  \n",
    "- лучшим менеджером по % заказов стала Маргарита Камертонова  \n",
    "- первая пятерка менеджеров по % выручки сильно ушла вперед от всех остальных (явно виден большой разрыв между каждым из первой пятерки и каждым из всех остальных менеджеров)  \n",
    "- в этом месяце нельзя выделить явную пятерку лидеров по % выручки, которые сильно оторвались от остальных  \n",
    "- лидер по % заказов реализовал более 16% заказов  \n",
    "- лидер по % заказов реализовал менее 16% заказов  \n",
    "- наихудшие показатели у Сергея Контрабасова  \n",
    "- наихудшие показатели у Аркадия Октавина  \n",
    "- Антон Скрипкин принес в 3 раза меньше выручки, чем Виктор Тромбонов  \n",
    "- Антон Скрипкин реализовал почти в 3 раза меньше заказов, чем Анастасия Дудкина"
   ]
  },
  {
   "cell_type": "markdown",
   "metadata": {},
   "source": [
    "<details>\n",
    "<summary>&#9658; Нажмите сюда, чтобы увидеть подсказку</summary>\n",
    "  <p>\n",
    "       \n",
    "1) Сгруппируйте данные с подтвержденными заказами из датафрейма `df_confirmed` по менеджерам и посчитайте для каждого сумму выручки и количество заказов. Получившуюся колонку с числом заказов можете переименовать в `orders`.\n",
    "      \n",
    "2) Отсортируйте записи по убыванию выручки.\n",
    "      \n",
    "3) Посчитайте процент выручки, приходящейся на каждого менеджера: разделите его выручку на суммарную выручку всех менеджеров и умножьте результат на 100. Округлите до двух знаков после точки.\n",
    "      \n",
    "4) Посчитайте процент заказов, приходящихся на каждого менеджера: разделите его число заказов на суммарное число заказов всех менеджеров и умножьте результат на 100. Округлите до двух знаков после точки.   \n",
    "      \n",
    "5) Постройте два барплота (столбиковые диаграммы): со значениями % выручки и % заказов у каждого менеджера.\n",
    "      \n",
    "</p>\n",
    "</details>"
   ]
  },
  {
   "cell_type": "code",
   "execution_count": 135,
   "metadata": {},
   "outputs": [
    {
     "data": {
      "image/png": "[encoded data removed]",
      "text/plain": [
       "<Figure size 720x432 with 1 Axes>"
      ]
     },
     "metadata": {
      "needs_background": "light"
     },
     "output_type": "display_data"
    },
    {
     "data": {
      "image/png": "[encoded data removed]",
      "text/plain": [
       "<Figure size 720x432 with 1 Axes>"
      ]
     },
     "metadata": {
      "needs_background": "light"
     },
     "output_type": "display_data"
    },
    {
     "data": {
      "text/html": [
       "<div>\n",
       "<style scoped>\n",
       "    .dataframe tbody tr th:only-of-type {\n",
       "        vertical-align: middle;\n",
       "    }\n",
       "\n",
       "    .dataframe tbody tr th {\n",
       "        vertical-align: top;\n",
       "    }\n",
       "\n",
       "    .dataframe thead th {\n",
       "        text-align: right;\n",
       "    }\n",
       "</style>\n",
       "<table border=\"1\" class=\"dataframe\">\n",
       "  <thead>\n",
       "    <tr style=\"text-align: right;\">\n",
       "      <th></th>\n",
       "      <th>manager</th>\n",
       "      <th>revenue_percentage</th>\n",
       "      <th>orders_percentage</th>\n",
       "    </tr>\n",
       "  </thead>\n",
       "  <tbody>\n",
       "    <tr>\n",
       "      <th>9</th>\n",
       "      <td>Маргарита Камертонова</td>\n",
       "      <td>17.04</td>\n",
       "      <td>15.53</td>\n",
       "    </tr>\n",
       "    <tr>\n",
       "      <th>4</th>\n",
       "      <td>Виктор Тромбонов</td>\n",
       "      <td>15.65</td>\n",
       "      <td>16.18</td>\n",
       "    </tr>\n",
       "    <tr>\n",
       "      <th>8</th>\n",
       "      <td>Максим Барабанов</td>\n",
       "      <td>11.78</td>\n",
       "      <td>12.94</td>\n",
       "    </tr>\n",
       "    <tr>\n",
       "      <th>5</th>\n",
       "      <td>Владимир Ударников</td>\n",
       "      <td>10.23</td>\n",
       "      <td>10.03</td>\n",
       "    </tr>\n",
       "    <tr>\n",
       "      <th>0</th>\n",
       "      <td>Алексей Саксофонов</td>\n",
       "      <td>9.58</td>\n",
       "      <td>8.74</td>\n",
       "    </tr>\n",
       "    <tr>\n",
       "      <th>7</th>\n",
       "      <td>Ксения Балалайкина</td>\n",
       "      <td>8.92</td>\n",
       "      <td>8.74</td>\n",
       "    </tr>\n",
       "    <tr>\n",
       "      <th>6</th>\n",
       "      <td>Екатерина Тарелкина</td>\n",
       "      <td>8.74</td>\n",
       "      <td>9.06</td>\n",
       "    </tr>\n",
       "    <tr>\n",
       "      <th>10</th>\n",
       "      <td>Надежда Гармошкина</td>\n",
       "      <td>6.61</td>\n",
       "      <td>6.80</td>\n",
       "    </tr>\n",
       "    <tr>\n",
       "      <th>1</th>\n",
       "      <td>Анастасия Дудкина</td>\n",
       "      <td>6.06</td>\n",
       "      <td>6.47</td>\n",
       "    </tr>\n",
       "    <tr>\n",
       "      <th>2</th>\n",
       "      <td>Антон Скрипкин</td>\n",
       "      <td>2.53</td>\n",
       "      <td>2.27</td>\n",
       "    </tr>\n",
       "    <tr>\n",
       "      <th>3</th>\n",
       "      <td>Аркадий Октавин</td>\n",
       "      <td>1.46</td>\n",
       "      <td>1.62</td>\n",
       "    </tr>\n",
       "    <tr>\n",
       "      <th>11</th>\n",
       "      <td>Сергей Контрабасов</td>\n",
       "      <td>1.40</td>\n",
       "      <td>1.62</td>\n",
       "    </tr>\n",
       "  </tbody>\n",
       "</table>\n",
       "</div>"
      ],
      "text/plain": [
       "                  manager  revenue_percentage  orders_percentage\n",
       "9   Маргарита Камертонова               17.04              15.53\n",
       "4        Виктор Тромбонов               15.65              16.18\n",
       "8        Максим Барабанов               11.78              12.94\n",
       "5      Владимир Ударников               10.23              10.03\n",
       "0      Алексей Саксофонов                9.58               8.74\n",
       "7      Ксения Балалайкина                8.92               8.74\n",
       "6     Екатерина Тарелкина                8.74               9.06\n",
       "10     Надежда Гармошкина                6.61               6.80\n",
       "1       Анастасия Дудкина                6.06               6.47\n",
       "2          Антон Скрипкин                2.53               2.27\n",
       "3         Аркадий Октавин                1.46               1.62\n",
       "11     Сергей Контрабасов                1.40               1.62"
      ]
     },
     "execution_count": 135,
     "metadata": {},
     "output_type": "execute_result"
    }
   ],
   "source": [
    "# 1. Сгруппируем данные с подтвержденными заказами по менеджерам, посчитаем сумму выручки и количество заказов\n",
    "manager_report = df_confirmed.groupby('manager').agg(\n",
    "    total_revenue=('revenue', 'sum'),\n",
    "    orders=('order_id', 'nunique')\n",
    ").reset_index()\n",
    "\n",
    "# 2. Отсортируем записи по убыванию выручки\n",
    "manager_report = manager_report.sort_values(by='total_revenue', ascending=False)\n",
    "\n",
    "# 3. Посчитаем процент выручки для каждого менеджера\n",
    "total_revenue_sum = manager_report['total_revenue'].sum()\n",
    "manager_report['revenue_percentage'] = round((manager_report['total_revenue'] / total_revenue_sum) * 100, 2)\n",
    "\n",
    "# 4. Посчитаем процент заказов для каждого менеджера\n",
    "total_orders_sum = manager_report['orders'].sum()\n",
    "manager_report['orders_percentage'] = round((manager_report['orders'] / total_orders_sum) * 100, 2)\n",
    "\n",
    "# 5. Построим два барплота: % выручки и % заказов\n",
    "\n",
    "# Барплот для % выручки\n",
    "plt.figure(figsize=(10, 6))\n",
    "plt.bar(manager_report['manager'], manager_report['revenue_percentage'], color='skyblue')\n",
    "plt.title('% Выручки по менеджерам')\n",
    "plt.xlabel('Менеджеры')\n",
    "plt.ylabel('% Выручки')\n",
    "plt.xticks(rotation=45)\n",
    "plt.grid(True)\n",
    "plt.tight_layout()\n",
    "\n",
    "# Показать первый график\n",
    "plt.show()\n",
    "\n",
    "# Барплот для % заказов\n",
    "plt.figure(figsize=(10, 6))\n",
    "plt.bar(manager_report['manager'], manager_report['orders_percentage'], color='lightgreen')\n",
    "plt.title('% Заказов по менеджерам')\n",
    "plt.xlabel('Менеджеры')\n",
    "plt.ylabel('% Заказов')\n",
    "plt.xticks(rotation=45)\n",
    "plt.grid(True)\n",
    "plt.tight_layout()\n",
    "\n",
    "# Показать второй график\n",
    "plt.show()\n",
    "\n",
    "# Выведем сводную таблицу с процентами выручки и заказов для каждого менеджера\n",
    "manager_report[['manager', 'revenue_percentage', 'orders_percentage']]\n",
    "\n"
   ]
  },
  {
   "cell_type": "code",
   "execution_count": 136,
   "metadata": {},
   "outputs": [],
   "source": [
    "#лучшим менеджером по % выручки стала Маргарита Камертонова\n",
    "#в этом месяце нельзя выделить явную пятерку лидеров по % выручки, которые сильно оторвались от остальных\n",
    "#лидер по % заказов реализовал более 16% заказов\n",
    "#наихудшие показатели у Сергея Контрабасова\n",
    "#Антон Скрипкин реализовал почти в 3 раза меньше заказов, чем Анастасия Дудкина"
   ]
  },
  {
   "cell_type": "markdown",
   "metadata": {},
   "source": [
    "## Итоги"
   ]
  },
  {
   "cell_type": "markdown",
   "metadata": {},
   "source": [
    "В финальном проекте модуля Python вы проанализировали продажи музыкальных товаров: собрали данные, посчитали ключевые метрики в динамике; определили дни, которые выбиваются из общей картины, и выяснили причину этого; нашли наиболее прибыльные бренды и те, которые зря занимают место на виртуальной «полке». Вы проделали отличную работу!\n",
    "\n",
    "Но если считаете, что можете больше, продолжайте анализ имеющихся данных самостоятельно. Например, посмотрите, в какие дни недели оформляется в среднем больше заказов; составьте более полный отчет по продажам каждого менеджера (учтите отмененные заказы); определите наиболее и наименее популярные/прибыльные категории товаров и т.п. Данные полны инсайтов! Но эти задания не оцениваются и по ним не осуществляется поддержка экспертов. Зато вы можете сделать эту работу своим пет-проектом :)"
   ]
  }
 ],
 "metadata": {
  "kernelspec": {
   "display_name": "Python 3",
   "language": "python",
   "name": "python3"
  },
  "language_info": {
   "codemirror_mode": {
    "name": "ipython",
    "version": 3
   },
   "file_extension": ".py",
   "mimetype": "text/x-python",
   "name": "python",
   "nbconvert_exporter": "python",
   "pygments_lexer": "ipython3",
   "version": "3.7.3"
  }
 },
 "nbformat": 4,
 "nbformat_minor": 5
}
